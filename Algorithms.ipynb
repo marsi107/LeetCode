{
 "cells": [
  {
   "cell_type": "markdown",
   "metadata": {},
   "source": [
    "### 1. Two Sums"
   ]
  },
  {
   "cell_type": "code",
   "execution_count": 2,
   "metadata": {},
   "outputs": [
    {
     "data": {
      "text/plain": [
       "[0, 1]"
      ]
     },
     "execution_count": 2,
     "metadata": {},
     "output_type": "execute_result"
    }
   ],
   "source": [
    "from typing import List\n",
    "\n",
    "class Solution:\n",
    "    def twoSum(self, nums: List[int], target: int) -> List[int]:\n",
    "        for index, val in enumerate(nums):  # Added a colon at the end\n",
    "            for index2, val2 in enumerate(nums):  # Added a colon at the end\n",
    "                if (val + val2) == target and index!=index2:\n",
    "                    return[index, index2]\n",
    "\n",
    "nums = [2,7,11,15]\n",
    "target = 9\n",
    "\n",
    "solution = Solution()\n",
    "solution.twoSum(nums, target)"
   ]
  },
  {
   "cell_type": "markdown",
   "metadata": {},
   "source": [
    "### 9. Palindrome Number"
   ]
  },
  {
   "cell_type": "code",
   "execution_count": 3,
   "metadata": {},
   "outputs": [
    {
     "data": {
      "text/plain": [
       "True"
      ]
     },
     "execution_count": 3,
     "metadata": {},
     "output_type": "execute_result"
    }
   ],
   "source": [
    "class Solution:\n",
    "    def isPalindrome(self, x: int) -> bool:\n",
    "        # Convert the number to a string\n",
    "        num_str = str(x)\n",
    "    \n",
    "        # Compare the string with its reverse\n",
    "        if num_str == num_str[::-1]:\n",
    "            return True\n",
    "        else:\n",
    "            return False\n",
    "        \n",
    "\n",
    "solution = Solution()\n",
    "solution.isPalindrome(121)"
   ]
  },
  {
   "cell_type": "markdown",
   "metadata": {},
   "source": [
    "### 20. Valid Parentheses"
   ]
  },
  {
   "cell_type": "code",
   "execution_count": 11,
   "metadata": {},
   "outputs": [
    {
     "name": "stdout",
     "output_type": "stream",
     "text": [
      "True\n",
      "True\n",
      "False\n"
     ]
    }
   ],
   "source": [
    "class Solution:\n",
    "    def isValid(self, s: str) -> bool:\n",
    "        stack = []  # Stack to store opening brackets\n",
    "    \n",
    "        # Define matching pairs of brackets\n",
    "        brackets_map = {\n",
    "            '(': ')',\n",
    "            '[': ']',\n",
    "            '{': '}'\n",
    "        }\n",
    "    \n",
    "        for char in s:\n",
    "            if char in brackets_map:\n",
    "                stack.append(char)  # If it's an opening bracket, push onto the stack\n",
    "            elif char in brackets_map.values():\n",
    "                if not stack:\n",
    "                    return False  # If there's a closing bracket but no matching opening bracket\n",
    "                opening_bracket = stack.pop()\n",
    "                if brackets_map[opening_bracket] != char:\n",
    "                    return False  # If the closing bracket doesn't match the last opening bracket\n",
    "        return len(stack) == 0  # Return True if the stack is empty (all brackets matched)\n",
    "\n",
    "# Define inputs\n",
    "input1 = \"()\"\n",
    "input2 = \"()[]{}\"\n",
    "input3 = \"(]\"\n",
    "\n",
    "# Call functions and print results\n",
    "solution = Solution()\n",
    "print(solution.isValid(input1))\n",
    "print(solution.isValid(input2))\n",
    "print(solution.isValid(input3))"
   ]
  },
  {
   "cell_type": "markdown",
   "metadata": {},
   "source": [
    "### 22. Generate Parentheses"
   ]
  },
  {
   "cell_type": "code",
   "execution_count": 12,
   "metadata": {},
   "outputs": [
    {
     "name": "stdout",
     "output_type": "stream",
     "text": [
      "['((()))', '(()())', '(())()', '()(())', '()()()']\n",
      "['()']\n"
     ]
    }
   ],
   "source": [
    "class Solution:\n",
    "    def generateParenthesis(self, n: int) -> List[str]:\n",
    "        def backtrack(s, left, right):\n",
    "            if len(s) == 2 * n:\n",
    "                combinations.append(s)\n",
    "                return\n",
    "            if left < n:\n",
    "                backtrack(s + '(', left + 1, right)\n",
    "            if right < left:\n",
    "                backtrack(s + ')', left, right + 1)\n",
    "        \n",
    "        combinations = []\n",
    "        backtrack('', 0, 0)\n",
    "        return combinations\n",
    "\n",
    "# Define inputs\n",
    "\n",
    "\n",
    "# Call functions and print results\n",
    "sol = Solution()\n",
    "print(sol.generateParenthesis(3))\n",
    "print(sol.generateParenthesis(1))"
   ]
  }
 ],
 "metadata": {
  "kernelspec": {
   "display_name": "Python 3",
   "language": "python",
   "name": "python3"
  },
  "language_info": {
   "codemirror_mode": {
    "name": "ipython",
    "version": 3
   },
   "file_extension": ".py",
   "mimetype": "text/x-python",
   "name": "python",
   "nbconvert_exporter": "python",
   "pygments_lexer": "ipython3",
   "version": "3.9.6"
  },
  "orig_nbformat": 4
 },
 "nbformat": 4,
 "nbformat_minor": 2
}

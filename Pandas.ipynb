{
 "cells": [
  {
   "cell_type": "markdown",
   "metadata": {},
   "source": [
    "### Import Dependecies"
   ]
  },
  {
   "cell_type": "code",
   "execution_count": null,
   "metadata": {},
   "outputs": [],
   "source": [
    "pip install pandas"
   ]
  },
  {
   "cell_type": "code",
   "execution_count": null,
   "metadata": {},
   "outputs": [],
   "source": [
    "import pandas as pd"
   ]
  },
  {
   "cell_type": "markdown",
   "metadata": {},
   "source": [
    "### 182. Duplicate Emails"
   ]
  },
  {
   "cell_type": "code",
   "execution_count": 41,
   "metadata": {},
   "outputs": [
    {
     "name": "stdout",
     "output_type": "stream",
     "text": [
      "dataframe type -------> <class 'pandas.core.frame.DataFrame'>\n",
      "function result type -> <class 'pandas.core.frame.DataFrame'>\n",
      "             email\n",
      "2          a@b.com\n",
      "4  jacky@yahoo.com\n",
      "5  jacky@yahoo.com\n"
     ]
    }
   ],
   "source": [
    "def duplicate_emails(person: pd.DataFrame) -> pd.DataFrame:\n",
    "    duplicated_rows = person.loc[person.duplicated(subset='email', keep='first'), ['email']]\n",
    "    return duplicated_rows\n",
    "\n",
    "\n",
    "# Import dataframe from csv\n",
    "df = pd.read_csv('PandasData/DuplicateEmails.csv')\n",
    "\n",
    "\n",
    "df.head()\n",
    "funcResult = duplicate_emails(df)\n",
    "print('dataframe type ------->', type(df))\n",
    "print('function result type ->', type(funcResult))\n",
    "print(funcResult)\n",
    "\n"
   ]
  }
 ],
 "metadata": {
  "kernelspec": {
   "display_name": "Python 3",
   "language": "python",
   "name": "python3"
  },
  "language_info": {
   "codemirror_mode": {
    "name": "ipython",
    "version": 3
   },
   "file_extension": ".py",
   "mimetype": "text/x-python",
   "name": "python",
   "nbconvert_exporter": "python",
   "pygments_lexer": "ipython3",
   "version": "3.9.6"
  },
  "orig_nbformat": 4
 },
 "nbformat": 4,
 "nbformat_minor": 2
}
